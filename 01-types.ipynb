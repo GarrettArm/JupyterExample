{
 "cells": [
  {
   "cell_type": "code",
   "execution_count": null,
   "metadata": {},
   "outputs": [],
   "source": [
    "# Jupyter shortcuts\n",
    "\n",
    "# If you're outside the cell:\n",
    "# \"a\" creates a new cell above\n",
    "# \"x\" cuts the cell\n",
    "# \"v\" pastes\n",
    "# \"shift-return\" runs the cell"
   ]
  },
  {
   "cell_type": "code",
   "execution_count": null,
   "metadata": {},
   "outputs": [],
   "source": [
    "# Comments:  In python, a hashtag indicates comments.  E.g., lines to not execute\n",
    "\n",
    "# Everything in python is an \"object\", and each object has a \"type\".\n",
    "# Here are the basic types.  https://docs.python.org/3/library/stdtypes.html\n",
    "\n",
    "my_bool = True\n",
    "my_str = \"hello\"\n",
    "my_int = 5\n",
    "my_float = 5.00\n",
    "\n",
    "# Compound types\n",
    "\n",
    "my_tuple = (\"cat\", \"dog\", \"fish\")\n",
    "my_list = [\"cat\", \"dog\", \"fish\"]\n",
    "my_set = {\"cat\", \"dog\", \"fish\"}\n",
    "\n",
    "# mapping types\n",
    "\n",
    "my_dict = {\n",
    "    \"species\": \"feline\", \n",
    "    \"color\": \"calico\", \n",
    "    \"name\": \"Mew\"\n",
    "}"
   ]
  },
  {
   "cell_type": "code",
   "execution_count": null,
   "metadata": {},
   "outputs": [],
   "source": [
    "# objects come with methods\n",
    "# dir() shows them\n",
    "# __something__ methods aren't for normal use\n",
    "# handy tool so you don't have to remember them all\n",
    "\n",
    "dir(\"hello\")"
   ]
  },
  {
   "cell_type": "code",
   "execution_count": null,
   "metadata": {},
   "outputs": [],
   "source": [
    "\"hello\".upper()"
   ]
  },
  {
   "cell_type": "code",
   "execution_count": null,
   "metadata": {},
   "outputs": [],
   "source": [
    "# functions\n",
    "# take something, do things, and return something\n",
    "\n",
    "def add_numbers(num1, num2):\n",
    "    sum = num1 + num2\n",
    "    return sum"
   ]
  },
  {
   "cell_type": "code",
   "execution_count": null,
   "metadata": {},
   "outputs": [],
   "source": [
    "add_numbers(5, 8)"
   ]
  }
 ],
 "metadata": {
  "interpreter": {
   "hash": "8fcf0f904de08732d6db5285b0756af5dec1bf1f209adcac41af1483de64cc0f"
  },
  "kernelspec": {
   "display_name": "Python 3.10.0 64-bit ('jupyter': conda)",
   "name": "python3"
  },
  "language_info": {
   "codemirror_mode": {
    "name": "ipython",
    "version": 3
   },
   "file_extension": ".py",
   "mimetype": "text/x-python",
   "name": "python",
   "nbconvert_exporter": "python",
   "pygments_lexer": "ipython3",
   "version": "3.9.7"
  },
  "orig_nbformat": 4
 },
 "nbformat": 4,
 "nbformat_minor": 2
}
