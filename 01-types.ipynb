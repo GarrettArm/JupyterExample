{
 "cells": [
  {
   "cell_type": "code",
   "execution_count": null,
   "metadata": {},
   "outputs": [],
   "source": [
    "# Comments:  In python, a hashtag indicates comments.  E.g., lines to not execute\n",
    "\n",
    "# Everything in python is an \"object\", and each object has a \"type\".\n",
    "# Here are the basic types.  https://docs.python.org/3/library/stdtypes.html\n",
    "\n",
    "my_bool = True\n",
    "my_str = \"hello\"\n",
    "my_int = 5\n",
    "my_float = 5.00\n",
    "\n",
    "# Compound types\n",
    "\n",
    "my_tuple = (\"cat\", \"dog\", \"fish\")\n",
    "my_list = [\"cat\", \"dog\", \"fish\"]\n",
    "my_set = {\"cat\", \"dog\", \"fish\"}\n",
    "\n",
    "# mapping types\n",
    "\n",
    "my_dict = {\n",
    "    \"species\": \"feline\", \n",
    "    \"color\": \"calico\", \n",
    "    \"name\": \"Mew\"\n",
    "}"
   ]
  }
 ],
 "metadata": {
  "interpreter": {
   "hash": "8fcf0f904de08732d6db5285b0756af5dec1bf1f209adcac41af1483de64cc0f"
  },
  "kernelspec": {
   "display_name": "Python 3.10.0 64-bit ('jupyter': conda)",
   "name": "python3"
  },
  "language_info": {
   "name": "python",
   "version": "3.10.0"
  },
  "orig_nbformat": 4
 },
 "nbformat": 4,
 "nbformat_minor": 2
}
